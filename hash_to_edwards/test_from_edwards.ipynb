{
 "cells": [
  {
   "cell_type": "code",
   "execution_count": 1,
   "metadata": {},
   "outputs": [],
   "source": [
    "# SageMath version: 10.0\n",
    "\n",
    "# See the constants defined in: https://github.com/zkcrypto/jubjub?tab=readme-ov-file\n",
    "\n",
    "# the base field of JubJub\n",
    "p = 0x73eda753299d7d483339d80809a1d80553bda402fffe5bfeffffffff00000001\n",
    "Fp = GF(p) \n",
    "\n",
    "# Edwards curve: e(x, y) = a * x^2 + y^2 - 1 - d * x^2 * y^2\n",
    "ED_a = Fp(-1)\n",
    "ED_d = Fp(-1) * Fp(10240) / Fp(10241)"
   ]
  },
  {
   "cell_type": "code",
   "execution_count": 2,
   "metadata": {},
   "outputs": [
    {
     "data": {
      "text/plain": [
       "(40962,\n",
       " 52435875175126190479447740508185965837690552500527637822603658699938581143549)"
      ]
     },
     "execution_count": 2,
     "metadata": {},
     "output_type": "execute_result"
    }
   ],
   "source": [
    "# Montgomery curve: m(x, y) = x^3 + J * x^2 - K * y^2 + x\n",
    "# Transform relation between Montgomery and Edwards, see: https://www.rfc-editor.org/rfc/rfc9380.html#appx-rational-map\n",
    "MONT_J = Fp(2) * (ED_a + ED_d) / (ED_a - ED_d)\n",
    "MONT_K = Fp(4) /(ED_a - ED_d)\n",
    "\n",
    "(MONT_J, MONT_K)\n"
   ]
  },
  {
   "cell_type": "code",
   "execution_count": 3,
   "metadata": {},
   "outputs": [
    {
     "data": {
      "text/plain": [
       "(52296097456646850916096512823759002727550416093741407922227928430486925478210,\n",
       " 48351165704696163914533707656614864561753505123260775585269522553028192119009)"
      ]
     },
     "execution_count": 3,
     "metadata": {},
     "output_type": "execute_result"
    }
   ],
   "source": [
    "# Weierstrass curve: w(x, y) = x^3 - y^2 + A * x + B\n",
    "# Transform relation between Montgomery and Weierstrass, see: https://www.rfc-editor.org/rfc/rfc9380.html#appx-rational-map\n",
    "WEI_A = (Fp(3) - MONT_J ** 2) / (Fp(3) * MONT_K ** 2)\n",
    "WEI_B = (Fp(2) * MONT_J ** 3 - Fp(9) * MONT_J) / (Fp(27) * MONT_K ** 3)\n",
    "(WEI_A, WEI_B)"
   ]
  },
  {
   "cell_type": "code",
   "execution_count": 4,
   "metadata": {},
   "outputs": [],
   "source": [
    "P.<x, y> = PolynomialRing(Fp, 2)\n",
    "K = FractionField(P)\n",
    "x, y = K.gens()"
   ]
  },
  {
   "cell_type": "code",
   "execution_count": 5,
   "metadata": {},
   "outputs": [
    {
     "data": {
      "text/plain": [
       "33178837138445241119697427838399087845741117098273517536419461807987697107280*x^2*y^2 - x^2 + y^2 + 52435875175126190479447740508185965837690552500527637822603658699938581184512"
      ]
     },
     "execution_count": 5,
     "metadata": {},
     "output_type": "execute_result"
    }
   ],
   "source": [
    "edwards_form = ED_a * x ** 2 + y ** 2 - 1 - ED_d * x ** 2 * y ** 2\n",
    "edwards_form"
   ]
  },
  {
   "cell_type": "code",
   "execution_count": 6,
   "metadata": {},
   "outputs": [
    {
     "data": {
      "text/plain": [
       "x^3 + 40962*x^2 + 40964*y^2 + x"
      ]
     },
     "execution_count": 6,
     "metadata": {},
     "output_type": "execute_result"
    }
   ],
   "source": [
    "montgomery_form = x * x * x + MONT_J * x ** 2 - MONT_K * y * y  + x\n",
    "montgomery_form"
   ]
  },
  {
   "cell_type": "code",
   "execution_count": 7,
   "metadata": {},
   "outputs": [
    {
     "data": {
      "text/plain": [
       "x^3 - y^2 + 52296097456646850916096512823759002727550416093741407922227928430486925478210*x + 48351165704696163914533707656614864561753505123260775585269522553028192119009"
      ]
     },
     "execution_count": 7,
     "metadata": {},
     "output_type": "execute_result"
    }
   ],
   "source": [
    "weierstrass_form = x ** 3 - y * y + WEI_A * x + WEI_B\n",
    "weierstrass_form"
   ]
  },
  {
   "cell_type": "code",
   "execution_count": 8,
   "metadata": {},
   "outputs": [],
   "source": [
    "# Given (x, y) in Weierstrass curve, convert to the point in Montgomery curve\n",
    "# Algorithm from: https://www.rfc-editor.org/rfc/rfc9380.html#appendix-D.2-5\n",
    "def weierstrass_to_montgomery(x, y):\n",
    "    return ((Fp(3) * MONT_K * x - MONT_J) / Fp(3), y * MONT_K)\n"
   ]
  },
  {
   "cell_type": "code",
   "execution_count": 9,
   "metadata": {},
   "outputs": [],
   "source": [
    "# Algorithm from: https://www.rfc-editor.org/rfc/rfc9380.html#appendix-D.1-12\n",
    "def montgomery_to_edwards(s, t):\n",
    "    tv1 = s + 1\n",
    "    tv2 = tv1 * t        # (s + 1) * t\n",
    "    # tv2 = inv0(tv2)      # 1 / ((s + 1) * t)\n",
    "    if tv2 != 0:\n",
    "        tv2 = 1 / tv2\n",
    "    v = tv2 * tv1      # 1 / t\n",
    "    v = v * s          # s / t\n",
    "    w = tv2 * t        # 1 / (s + 1)\n",
    "    tv1 = s - 1\n",
    "    w = w * tv1        # (s - 1) / (s + 1)\n",
    "    # e = tv2 == 0\n",
    "    # w = CMOV(w, 1, e)  # handle exceptional case\n",
    "    if tv2 == 0:\n",
    "        w = 1\n",
    "    return (v, w)"
   ]
  },
  {
   "cell_type": "code",
   "execution_count": 10,
   "metadata": {},
   "outputs": [],
   "source": [
    "E = EllipticCurve(Fp, [WEI_A, WEI_B])\n",
    "P = E.random_point()\n",
    "(a, b) = P.xy()"
   ]
  },
  {
   "cell_type": "code",
   "execution_count": 11,
   "metadata": {},
   "outputs": [
    {
     "data": {
      "text/plain": [
       "True"
      ]
     },
     "execution_count": 11,
     "metadata": {},
     "output_type": "execute_result"
    }
   ],
   "source": [
    "# the resulting point falls into the related Weierstsrass curve\n",
    "weierstrass_form(a, b) == 0"
   ]
  },
  {
   "cell_type": "code",
   "execution_count": 12,
   "metadata": {},
   "outputs": [
    {
     "data": {
      "text/plain": [
       "True"
      ]
     },
     "execution_count": 12,
     "metadata": {},
     "output_type": "execute_result"
    }
   ],
   "source": [
    "# the resulting point falls into the related Montgomery curve\n",
    "(c, d) = weierstrass_to_montgomery(a, b)\n",
    "montgomery_form(c, d) == 0"
   ]
  },
  {
   "cell_type": "code",
   "execution_count": 13,
   "metadata": {},
   "outputs": [
    {
     "data": {
      "text/plain": [
       "True"
      ]
     },
     "execution_count": 13,
     "metadata": {},
     "output_type": "execute_result"
    }
   ],
   "source": [
    "# the resulting point falls into the related twisted Edwards curve\n",
    "(e, f) = montgomery_to_edwards(c, d) \n",
    "edwards_form(e, f) == 0"
   ]
  },
  {
   "cell_type": "code",
   "execution_count": 14,
   "metadata": {},
   "outputs": [
    {
     "name": "stdout",
     "output_type": "stream",
     "text": [
      "pass\n"
     ]
    }
   ],
   "source": [
    "# test n random points for the correctness\n",
    "def test(n):\n",
    "    for i in range(n):\n",
    "        E = EllipticCurve(Fp, [WEI_A, WEI_B])\n",
    "        P = E.random_point()\n",
    "        (a, b) = P.xy()\n",
    "        not_on_weierstrass = weierstrass_form(a, b) != 0\n",
    "\n",
    "        (c, d) = weierstrass_to_montgomery(a, b)\n",
    "        not_on_montgomery = montgomery_form(c, d) != 0\n",
    "\n",
    "        (e, f) = montgomery_to_edwards(c, d) \n",
    "        not_on_edwards = edwards_form(e, f) != 0\n",
    "    \n",
    "        if not_on_montgomery | not_on_weierstrass | not_on_edwards:\n",
    "            print(\"point not on the curve!\")\n",
    "            return\n",
    "    \n",
    "    print(\"pass\")\n",
    "\n",
    "test(10)\n",
    "\n",
    "\n",
    "\n"
   ]
  },
  {
   "cell_type": "code",
   "execution_count": 15,
   "metadata": {},
   "outputs": [],
   "source": [
    "def find_z_svdw(F, A, B, init_ctr=1):\n",
    "    g = lambda x: F(x)^3 + F(A) * F(x) + F(B)\n",
    "    h = lambda Z: -(F(3) * Z^2 + F(4) * A) / (F(4) * g(Z))\n",
    "    # NOTE: if init_ctr=1 fails to find Z, try setting it to F.gen()\n",
    "    ctr = init_ctr\n",
    "    while True:\n",
    "        for Z_cand in (F(ctr), F(-ctr)):\n",
    "            # Criterion 1:\n",
    "            #   g(Z) != 0 in F.\n",
    "            if g(Z_cand) == F(0):\n",
    "                continue\n",
    "            # Criterion 2:\n",
    "            #   -(3 * Z^2 + 4 * A) / (4 * g(Z)) != 0 in F.\n",
    "            if h(Z_cand) == F(0):\n",
    "                continue\n",
    "            # Criterion 3:\n",
    "            #   -(3 * Z^2 + 4 * A) / (4 * g(Z)) is square in F.\n",
    "            if not is_square(h(Z_cand)):\n",
    "                continue\n",
    "            # Criterion 4:\n",
    "            #   At least one of g(Z) and g(-Z / 2) is square in F.\n",
    "            if is_square(g(Z_cand)) or is_square(g(-Z_cand / F(2))):\n",
    "                return Z_cand\n",
    "        ctr += 1"
   ]
  },
  {
   "cell_type": "code",
   "execution_count": 16,
   "metadata": {},
   "outputs": [
    {
     "data": {
      "text/plain": [
       "52435875175126190479447740508185965837690552500527637822603658699938581184511"
      ]
     },
     "execution_count": 16,
     "metadata": {},
     "output_type": "execute_result"
    }
   ],
   "source": [
    "jubjub_z = find_z_svdw(Fp, WEI_A, WEI_B)\n",
    "jubjub_z"
   ]
  },
  {
   "cell_type": "code",
   "execution_count": 17,
   "metadata": {},
   "outputs": [
    {
     "data": {
      "text/plain": [
       "-1"
      ]
     },
     "execution_count": 17,
     "metadata": {},
     "output_type": "execute_result"
    }
   ],
   "source": [
    "kronecker(7, p) # i.e 7 is a quadratic non-residue"
   ]
  },
  {
   "cell_type": "code",
   "execution_count": 18,
   "metadata": {},
   "outputs": [
    {
     "data": {
      "text/plain": [
       "-1"
      ]
     },
     "execution_count": 18,
     "metadata": {},
     "output_type": "execute_result"
    }
   ],
   "source": [
    "kronecker(ED_d, p) # i.e ED_d is a quadratic non-residue"
   ]
  },
  {
   "cell_type": "code",
   "execution_count": 19,
   "metadata": {},
   "outputs": [],
   "source": [
    "# Given an integer with 256 bits in hex, convert it into 4 limbs of 64 bits where the least significent limb is put first.\n",
    "\n",
    "def u_64_little_endian(n):\n",
    "    str_hex = n\n",
    "    str_hex_without_0x = str_hex[2:]\n",
    "    # pad 0s into hex litteral of 64 digits for the 256 bits \n",
    "    full_width_str = '0' * (64 - len(str_hex_without_0x)) + str_hex_without_0x\n",
    "    assert len(full_width_str) == 64\n",
    "\n",
    "    res = []\n",
    "    # divide the litteral into 4 limbs of 64 bits, the least significent limb is put first\n",
    "    for i in range(4):\n",
    "        temp = '0x' + full_width_str[64 - 16 * (i + 1) : 64 - 16 * i]\n",
    "        res.append(temp)\n",
    "    return res\n",
    "\n",
    "# Output a rust-friendly form of 4 limbs representation for the field element:\n",
    "# F::from_raw([\n",
    "# 0x1234567890123456,\n",
    "# 0x1234567890123456,\n",
    "# 0x1234567890123456,\n",
    "# 0x1234567890123456,\n",
    "# ]),\n",
    "\n",
    "def print_for_rust(elem):\n",
    "    print('Base::from_raw([')\n",
    "    for limb in u_64_little_endian(elem):\n",
    "        print(limb + \",\")\n",
    "    print(']),')"
   ]
  },
  {
   "cell_type": "code",
   "execution_count": 20,
   "metadata": {},
   "outputs": [
    {
     "name": "stdout",
     "output_type": "stream",
     "text": [
      "Base::from_raw([\n",
      "0xffffffff00000000,\n",
      "0x53bda402fffe5bfe,\n",
      "0x3339d80809a1d805,\n",
      "0x73eda753299d7d48,\n",
      "]),\n"
     ]
    }
   ],
   "source": [
    "# Return the rust-friendly form of -1 in Fp\n",
    "print_for_rust(hex(p-1))"
   ]
  },
  {
   "cell_type": "code",
   "execution_count": 21,
   "metadata": {},
   "outputs": [
    {
     "name": "stdout",
     "output_type": "stream",
     "text": [
      "Base::from_raw([\n",
      "0xfffffffeffffffff,\n",
      "0x53bda402fffe5bfe,\n",
      "0x3339d80809a1d805,\n",
      "0x73eda753299d7d48,\n",
      "]),\n"
     ]
    }
   ],
   "source": [
    "print_for_rust(hex(jubjub_z))"
   ]
  },
  {
   "cell_type": "code",
   "execution_count": 22,
   "metadata": {},
   "outputs": [
    {
     "name": "stdout",
     "output_type": "stream",
     "text": [
      "Base::from_raw([\n",
      "0xc50d34dcd4c20942,\n",
      "0x20535e745e639334,\n",
      "0x976220a0378a2328,\n",
      "0x739e8acf6e7266e8,\n",
      "]),\n"
     ]
    }
   ],
   "source": [
    "print_for_rust(hex(WEI_A))"
   ]
  },
  {
   "cell_type": "code",
   "execution_count": 23,
   "metadata": {},
   "outputs": [
    {
     "name": "stdout",
     "output_type": "stream",
     "text": [
      "Base::from_raw([\n",
      "0x7120c33b4c6628e1,\n",
      "0xbbf51483ff8366ac,\n",
      "0xf4c60001b55614b0,\n",
      "0x6ae5ca3c3f667667,\n",
      "]),\n"
     ]
    }
   ],
   "source": [
    "print_for_rust(hex(WEI_B))"
   ]
  },
  {
   "cell_type": "code",
   "execution_count": null,
   "metadata": {},
   "outputs": [],
   "source": []
  }
 ],
 "metadata": {
  "kernelspec": {
   "display_name": "SageMath 10.0",
   "language": "sage",
   "name": "sagemath"
  },
  "language_info": {
   "codemirror_mode": {
    "name": "ipython",
    "version": 3
   },
   "file_extension": ".py",
   "mimetype": "text/x-python",
   "name": "python",
   "nbconvert_exporter": "python",
   "pygments_lexer": "ipython3",
   "version": "3.11.3"
  }
 },
 "nbformat": 4,
 "nbformat_minor": 2
}
