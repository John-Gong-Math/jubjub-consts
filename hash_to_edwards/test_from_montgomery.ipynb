{
 "cells": [
  {
   "cell_type": "code",
   "execution_count": 25,
   "metadata": {},
   "outputs": [],
   "source": [
    "# See the constants defined in: https://github.com/zkcrypto/jubjub?tab=readme-ov-file\n",
    "\n",
    "# the base field of JubJub\n",
    "p = 0x73eda753299d7d483339d80809a1d80553bda402fffe5bfeffffffff00000001\n",
    "Fp = GF(p) \n",
    "# Montgomery curve: m(x, y) = x^3 + J * x^2 - K * y^2 + x\n",
    "# Constants copied from: https://github.com/zkcrypto/jubjub\n",
    "MONT_J = Fp(40962)\n",
    "MONT_K = Fp(1)"
   ]
  },
  {
   "cell_type": "code",
   "execution_count": 26,
   "metadata": {},
   "outputs": [],
   "source": [
    "# Weierstrass curve: w(x, y) = x^3 - y^2 + A * x + B\n",
    "# Transform relation between Montgomery and Weierstrass, see: https://www.rfc-editor.org/rfc/rfc9380.html#appx-rational-map\n",
    "WEI_A = (Fp(3) - MONT_J ** 2) / (Fp(3) * MONT_K ** 2)\n",
    "WEI_B = (Fp(2) * MONT_J ** 3 - Fp(9) * MONT_J) / (Fp(27) * MONT_K ** 3)"
   ]
  },
  {
   "cell_type": "code",
   "execution_count": 27,
   "metadata": {},
   "outputs": [
    {
     "data": {
      "text/plain": [
       "(52435875175126190479447740508185965837690552500527637822603658699938021889366,\n",
       " 5091077286874)"
      ]
     },
     "execution_count": 27,
     "metadata": {},
     "output_type": "execute_result"
    }
   ],
   "source": [
    "(WEI_A, WEI_B)"
   ]
  },
  {
   "cell_type": "code",
   "execution_count": 28,
   "metadata": {},
   "outputs": [],
   "source": [
    "# Edwards curve: e(x, y) = a * x^2 + y^2 - 1 - d * x^2 * y^2\n",
    "# Constants copied from: https://github.com/zkcrypto/jubjub\n",
    "ED_a = Fp(-1)\n",
    "ED_d = Fp(-1) * Fp(10240) / Fp(10241)"
   ]
  },
  {
   "cell_type": "code",
   "execution_count": 29,
   "metadata": {},
   "outputs": [
    {
     "data": {
      "text/plain": [
       "Multivariate Polynomial Ring in x, y over Finite Field of size 52435875175126190479447740508185965837690552500527637822603658699938581184513"
      ]
     },
     "execution_count": 29,
     "metadata": {},
     "output_type": "execute_result"
    }
   ],
   "source": [
    "P.<x, y> = PolynomialRing(Fp, 2)\n",
    "P"
   ]
  },
  {
   "cell_type": "code",
   "execution_count": 30,
   "metadata": {},
   "outputs": [
    {
     "data": {
      "text/plain": [
       "Fraction Field of Multivariate Polynomial Ring in x, y over Finite Field of size 52435875175126190479447740508185965837690552500527637822603658699938581184513"
      ]
     },
     "execution_count": 30,
     "metadata": {},
     "output_type": "execute_result"
    }
   ],
   "source": [
    "K = FractionField(P)\n",
    "K"
   ]
  },
  {
   "cell_type": "code",
   "execution_count": 31,
   "metadata": {},
   "outputs": [],
   "source": [
    "x, y = K.gens()"
   ]
  },
  {
   "cell_type": "code",
   "execution_count": 32,
   "metadata": {},
   "outputs": [
    {
     "data": {
      "text/plain": [
       "x^3 + 40962*x^2 - y^2 + x"
      ]
     },
     "execution_count": 32,
     "metadata": {},
     "output_type": "execute_result"
    }
   ],
   "source": [
    "montgomery_form = x * x * x + MONT_J * x ** 2 - MONT_K * y * y  + x\n",
    "montgomery_form"
   ]
  },
  {
   "cell_type": "code",
   "execution_count": 33,
   "metadata": {},
   "outputs": [
    {
     "data": {
      "text/plain": [
       "x^3 - y^2 + 52435875175126190479447740508185965837690552500527637822603658699938021889366*x + 5091077286874"
      ]
     },
     "execution_count": 33,
     "metadata": {},
     "output_type": "execute_result"
    }
   ],
   "source": [
    "weierstrass_form = x ** 3 - y * y + WEI_A * x + WEI_B\n",
    "weierstrass_form"
   ]
  },
  {
   "cell_type": "code",
   "execution_count": 34,
   "metadata": {},
   "outputs": [
    {
     "data": {
      "text/plain": [
       "33178837138445241119697427838399087845741117098273517536419461807987697107280*x^2*y^2 - x^2 + y^2 + 52435875175126190479447740508185965837690552500527637822603658699938581184512"
      ]
     },
     "execution_count": 34,
     "metadata": {},
     "output_type": "execute_result"
    }
   ],
   "source": [
    "edwards_form = ED_a * x ** 2 + y ** 2 - 1 - ED_d * x ** 2 * y ** 2\n",
    "edwards_form"
   ]
  },
  {
   "cell_type": "code",
   "execution_count": 35,
   "metadata": {},
   "outputs": [
    {
     "data": {
      "text/plain": [
       "True"
      ]
     },
     "execution_count": 35,
     "metadata": {},
     "output_type": "execute_result"
    }
   ],
   "source": [
    "# Given (x, y) in Weierstrass curve, convert to the point in Montgomery curve\n",
    "# Algorithm from: https://www.rfc-editor.org/rfc/rfc9380.html#appendix-D.2-5\n",
    "def weierstrass_to_montgomery(x, y):\n",
    "    return ((3 * MONT_K * x - MONT_J) / 3, y * MONT_K)\n",
    "\n",
    "montgomery_form(weierstrass_to_montgomery(x, y)) == weierstrass_form"
   ]
  },
  {
   "cell_type": "code",
   "execution_count": 36,
   "metadata": {},
   "outputs": [],
   "source": [
    "# See details here: \n",
    "# https://www.ietf.org/archive/id/draft-irtf-cfrg-hash-to-curve-10.html#appx-rational-map"
   ]
  },
  {
   "cell_type": "code",
   "execution_count": 37,
   "metadata": {},
   "outputs": [],
   "source": [
    "# Algorithm from: https://www.rfc-editor.org/rfc/rfc9380.html#appendix-D.1-12\n",
    "def montgomery_to_edwards(s, t):\n",
    "    tv1 = s + 1\n",
    "    tv2 = tv1 * t        # (s + 1) * t\n",
    "    # tv2 = inv0(tv2)      # 1 / ((s + 1) * t)\n",
    "    if tv2 != 0:\n",
    "        tv2 = 1 / tv2\n",
    "    v = tv2 * tv1      # 1 / t\n",
    "    v = v * s          # s / t\n",
    "    w = tv2 * t        # 1 / (s + 1)\n",
    "    tv1 = s - 1\n",
    "    w = w * tv1        # (s - 1) / (s + 1)\n",
    "    # e = tv2 == 0\n",
    "    # w = CMOV(w, 1, e)  # handle exceptional case\n",
    "    if tv2 == 0:\n",
    "        w = 1\n",
    "    return (v, w)"
   ]
  },
  {
   "cell_type": "code",
   "execution_count": 38,
   "metadata": {},
   "outputs": [
    {
     "data": {
      "text/plain": [
       "(x/y,\n",
       " (x + 52435875175126190479447740508185965837690552500527637822603658699938581184512)/(x + 1))"
      ]
     },
     "execution_count": 38,
     "metadata": {},
     "output_type": "execute_result"
    }
   ],
   "source": [
    "# Results as expected, see: https://www.rfc-editor.org/rfc/rfc9380.html#appendix-D.1-9\n",
    "(u, v) = montgomery_to_edwards(x, y)\n",
    "(u, v)"
   ]
  },
  {
   "cell_type": "code",
   "execution_count": 39,
   "metadata": {},
   "outputs": [
    {
     "data": {
      "text/plain": [
       "Elliptic Curve defined by y^2 = x^3 + 52435875175126190479447740508185965837690552500527637822603658699938021889366*x + 5091077286874 over Finite Field of size 52435875175126190479447740508185965837690552500527637822603658699938581184513"
      ]
     },
     "execution_count": 39,
     "metadata": {},
     "output_type": "execute_result"
    }
   ],
   "source": [
    "E = EllipticCurve(Fp, [WEI_A, WEI_B])\n",
    "E"
   ]
  },
  {
   "cell_type": "code",
   "execution_count": 40,
   "metadata": {},
   "outputs": [
    {
     "data": {
      "text/plain": [
       "(32918843519861289097070882940437200891225887917683614207709323528149518806503,\n",
       " 6871706826388728304137269180931183552457562826747428960849902242926391355564)"
      ]
     },
     "execution_count": 40,
     "metadata": {},
     "output_type": "execute_result"
    }
   ],
   "source": [
    "P = E.random_point()\n",
    "(a, b) = P.xy()\n",
    "(a, b)"
   ]
  },
  {
   "cell_type": "code",
   "execution_count": 41,
   "metadata": {},
   "outputs": [
    {
     "data": {
      "text/plain": [
       "0"
      ]
     },
     "execution_count": 41,
     "metadata": {},
     "output_type": "execute_result"
    }
   ],
   "source": [
    "weierstrass_form(a, b)"
   ]
  },
  {
   "cell_type": "code",
   "execution_count": 42,
   "metadata": {},
   "outputs": [
    {
     "data": {
      "text/plain": [
       "True"
      ]
     },
     "execution_count": 42,
     "metadata": {},
     "output_type": "execute_result"
    }
   ],
   "source": [
    "(c, d) = weierstrass_to_montgomery(a, b)\n",
    "montgomery_form(c, d) == 0"
   ]
  },
  {
   "cell_type": "code",
   "execution_count": 43,
   "metadata": {},
   "outputs": [
    {
     "data": {
      "text/plain": [
       "False"
      ]
     },
     "execution_count": 43,
     "metadata": {},
     "output_type": "execute_result"
    }
   ],
   "source": [
    "# This means the point is not on the corresponding Edwards curve!!!\n",
    "(e, f) = montgomery_to_edwards(c, d)\n",
    "edwards_form(e, f) == 0"
   ]
  },
  {
   "cell_type": "code",
   "execution_count": 44,
   "metadata": {},
   "outputs": [
    {
     "name": "stdout",
     "output_type": "stream",
     "text": [
      "point not on the curve!\n"
     ]
    }
   ],
   "source": [
    "# test n random points for the correctness\n",
    "def test(n):\n",
    "    for i in range(n):\n",
    "        E = EllipticCurve(Fp, [WEI_A, WEI_B])\n",
    "        P = E.random_point()\n",
    "        (a, b) = P.xy()\n",
    "        not_on_weierstrass = weierstrass_form(a, b) != 0\n",
    "\n",
    "        (c, d) = weierstrass_to_montgomery(a, b)\n",
    "        not_on_montgomery = montgomery_form(c, d) != 0\n",
    "\n",
    "        (e, f) = montgomery_to_edwards(c, d) \n",
    "        not_on_edwards = edwards_form(e, f) != 0\n",
    "    \n",
    "        if not_on_montgomery | not_on_weierstrass | not_on_edwards:\n",
    "            print(\"point not on the curve!\")\n",
    "            return\n",
    "    \n",
    "    print(\"pass\")\n",
    "\n",
    "test(10)"
   ]
  },
  {
   "cell_type": "code",
   "execution_count": 45,
   "metadata": {},
   "outputs": [],
   "source": [
    "def find_z_svdw(F, A, B, init_ctr=1):\n",
    "    g = lambda x: F(x)^3 + F(A) * F(x) + F(B)\n",
    "    h = lambda Z: -(F(3) * Z^2 + F(4) * A) / (F(4) * g(Z))\n",
    "    # NOTE: if init_ctr=1 fails to find Z, try setting it to F.gen()\n",
    "    ctr = init_ctr\n",
    "    while True:\n",
    "        for Z_cand in (F(ctr), F(-ctr)):\n",
    "            # Criterion 1:\n",
    "            #   g(Z) != 0 in F.\n",
    "            if g(Z_cand) == F(0):\n",
    "                continue\n",
    "            # Criterion 2:\n",
    "            #   -(3 * Z^2 + 4 * A) / (4 * g(Z)) != 0 in F.\n",
    "            if h(Z_cand) == F(0):\n",
    "                continue\n",
    "            # Criterion 3:\n",
    "            #   -(3 * Z^2 + 4 * A) / (4 * g(Z)) is square in F.\n",
    "            if not is_square(h(Z_cand)):\n",
    "                continue\n",
    "            # Criterion 4:\n",
    "            #   At least one of g(Z) and g(-Z / 2) is square in F.\n",
    "            if is_square(g(Z_cand)) or is_square(g(-Z_cand / F(2))):\n",
    "                return Z_cand\n",
    "        ctr += 1"
   ]
  },
  {
   "cell_type": "code",
   "execution_count": 46,
   "metadata": {},
   "outputs": [
    {
     "data": {
      "text/plain": [
       "2"
      ]
     },
     "execution_count": 46,
     "metadata": {},
     "output_type": "execute_result"
    }
   ],
   "source": [
    "jubjub_z = find_z_svdw(Fp, WEI_A, WEI_B)\n",
    "jubjub_z"
   ]
  },
  {
   "cell_type": "code",
   "execution_count": 47,
   "metadata": {},
   "outputs": [
    {
     "data": {
      "text/plain": [
       "-1"
      ]
     },
     "execution_count": 47,
     "metadata": {},
     "output_type": "execute_result"
    }
   ],
   "source": [
    "kronecker(7, p) # i.e 7 is a quadratic non-residue"
   ]
  },
  {
   "cell_type": "code",
   "execution_count": null,
   "metadata": {},
   "outputs": [],
   "source": []
  }
 ],
 "metadata": {
  "kernelspec": {
   "display_name": "SageMath 10.0",
   "language": "sage",
   "name": "sagemath"
  },
  "language_info": {
   "codemirror_mode": {
    "name": "ipython",
    "version": 3
   },
   "file_extension": ".py",
   "mimetype": "text/x-python",
   "name": "python",
   "nbconvert_exporter": "python",
   "pygments_lexer": "ipython3",
   "version": "3.11.3"
  }
 },
 "nbformat": 4,
 "nbformat_minor": 2
}
