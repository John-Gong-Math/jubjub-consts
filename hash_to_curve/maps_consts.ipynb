{
 "cells": [
  {
   "cell_type": "code",
   "execution_count": 22,
   "metadata": {},
   "outputs": [],
   "source": [
    "p = 21888242871839275222246405745257275088548364400416034343698204186575808495617\n",
    "Fp = GF(p) # the base field of JubJub"
   ]
  },
  {
   "cell_type": "code",
   "execution_count": 23,
   "metadata": {},
   "outputs": [],
   "source": [
    "# See details here: \n",
    "# https://www.ietf.org/archive/id/draft-irtf-cfrg-hash-to-curve-10.html#appx-rational-map\n",
    "\n",
    "\n"
   ]
  },
  {
   "cell_type": "markdown",
   "metadata": {},
   "source": [
    "Given the equation in Montgomery form:\n",
    "$$ K \\cdot t^2 = s^3 + J \\cdot s^2 + s $$\n",
    "return the corresponding Weierstrass form:\n",
    "$$y^2 = x^3 + A \\cdot x + B$$\n",
    "where:\n",
    "$$ A = \\frac{3 - J^2}{3 \\cdot K^2} $$\n",
    "$$ B = \\frac{2 \\cdot J^3 - 9 \\cdot J}{27 \\cdot K^3} $$\n",
    "\n"
   ]
  },
  {
   "cell_type": "code",
   "execution_count": 24,
   "metadata": {},
   "outputs": [],
   "source": [
    "def montgomery_to_weierstrass(K, J):\n",
    "    A = (3 - J * J) / (3 * K * K)\n",
    "    B = (2 * J * J * J - 9 * J) / (27 * K * K * K)\n",
    "    return (A, B)"
   ]
  },
  {
   "cell_type": "code",
   "execution_count": 25,
   "metadata": {},
   "outputs": [
    {
     "data": {
      "text/plain": [
       "(-28459015201/3, 9601957892250502/27)"
      ]
     },
     "execution_count": 25,
     "metadata": {},
     "output_type": "execute_result"
    }
   ],
   "source": [
    "(A, B) = montgomery_to_weierstrass(1, 168698)\n",
    "(A, B)"
   ]
  },
  {
   "cell_type": "code",
   "execution_count": 26,
   "metadata": {},
   "outputs": [],
   "source": [
    "A = int(Fp(A))\n",
    "B = int(Fp(B))"
   ]
  },
  {
   "cell_type": "code",
   "execution_count": 27,
   "metadata": {},
   "outputs": [],
   "source": [
    "# https://www.rfc-editor.org/rfc/rfc9380.html#svdw-z-code\n",
    "# Arguments:\n",
    "# - F, a field object, e.g., F = GF(2^521 - 1)\n",
    "# - A and B, the coefficients of the curve y^2 = x^3 + A * x + B\n",
    "def find_z_svdw(F, A, B, init_ctr=1):\n",
    "    g = lambda x: F(x)^3 + F(A) * F(x) + F(B)\n",
    "    h = lambda Z: -(F(3) * Z^2 + F(4) * A) / (F(4) * g(Z))\n",
    "    # NOTE: if init_ctr=1 fails to find Z, try setting it to F.gen()\n",
    "    ctr = init_ctr\n",
    "    while True:\n",
    "        for Z_cand in (F(ctr), F(-ctr)):\n",
    "            # Criterion 1:\n",
    "            #   g(Z) != 0 in F.\n",
    "            if g(Z_cand) == F(0):\n",
    "                continue\n",
    "            # Criterion 2:\n",
    "            #   -(3 * Z^2 + 4 * A) / (4 * g(Z)) != 0 in F.\n",
    "            if h(Z_cand) == F(0):\n",
    "                continue\n",
    "            # Criterion 3:\n",
    "            #   -(3 * Z^2 + 4 * A) / (4 * g(Z)) is square in F.\n",
    "            if not is_square(h(Z_cand)):\n",
    "                continue\n",
    "            # Criterion 4:\n",
    "            #   At least one of g(Z) and g(-Z / 2) is square in F.\n",
    "            if is_square(g(Z_cand)) or is_square(g(-Z_cand / F(2))):\n",
    "                return Z_cand\n",
    "        ctr += 1"
   ]
  },
  {
   "cell_type": "code",
   "execution_count": 28,
   "metadata": {},
   "outputs": [],
   "source": [
    "# Given an integer with 256 bits in hex, convert it into 4 limbs of 64 bits where the least significent limb is put first.\n",
    "\n",
    "def u_64_little_endian(n):\n",
    "    str_hex = n\n",
    "    str_hex_without_0x = str_hex[2:]\n",
    "    # pad 0s into hex litteral of 64 digits for the 256 bits \n",
    "    full_width_str = '0' * (64 - len(str_hex_without_0x)) + str_hex_without_0x\n",
    "    assert len(full_width_str) == 64\n",
    "\n",
    "    res = []\n",
    "    # divide the litteral into 4 limbs of 64 bits, the least significent limb is put first\n",
    "    for i in range(4):\n",
    "        temp = '0x' + full_width_str[64 - 16 * (i + 1) : 64 - 16 * i]\n",
    "        res.append(temp)\n",
    "    return res\n",
    "\n",
    "def print_for_rust(elem):\n",
    "    print( hex(elem))\n",
    "    print('\\n')\n",
    "    print('[')\n",
    "    for limb in u_64_little_endian(elem):\n",
    "        print(limb + \",\")\n",
    "    print(']')\n",
    "    print('------\\n')"
   ]
  },
  {
   "cell_type": "code",
   "execution_count": 29,
   "metadata": {},
   "outputs": [
    {
     "data": {
      "text/plain": [
       "1"
      ]
     },
     "execution_count": 29,
     "metadata": {},
     "output_type": "execute_result"
    }
   ],
   "source": [
    "jubjub_z = find_z_svdw(Fp, A, B)\n",
    "jubjub_z"
   ]
  },
  {
   "cell_type": "code",
   "execution_count": 30,
   "metadata": {},
   "outputs": [
    {
     "data": {
      "text/plain": [
       "-1"
      ]
     },
     "execution_count": 30,
     "metadata": {},
     "output_type": "execute_result"
    }
   ],
   "source": [
    "kronecker(7, p) # i.e 7 is a quadratic non-residue"
   ]
  },
  {
   "cell_type": "code",
   "execution_count": null,
   "metadata": {},
   "outputs": [],
   "source": []
  }
 ],
 "metadata": {
  "kernelspec": {
   "display_name": "SageMath 10.0",
   "language": "sage",
   "name": "sagemath"
  },
  "language_info": {
   "codemirror_mode": {
    "name": "ipython",
    "version": 3
   },
   "file_extension": ".py",
   "mimetype": "text/x-python",
   "name": "python",
   "nbconvert_exporter": "python",
   "pygments_lexer": "ipython3",
   "version": "3.11.3"
  }
 },
 "nbformat": 4,
 "nbformat_minor": 2
}
